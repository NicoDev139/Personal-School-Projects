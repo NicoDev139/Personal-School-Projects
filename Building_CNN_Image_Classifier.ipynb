{
 "cells": [
  {
   "cell_type": "markdown",
   "id": "6ee5e52f",
   "metadata": {},
   "source": [
    "### Exercise 10.2: Building a CNN Image Classifier\n",
    "\n",
    "\n",
    "#### Name: Nicolas Bolanos\n",
    "\n",
    "\n",
    "#### Date: 08/2023"
   ]
  },
  {
   "cell_type": "markdown",
   "id": "6efcaec6",
   "metadata": {},
   "source": [
    "##### Instructions\n",
    "\n",
    "\n",
    "In this exercise, you will build a convolutional neural network (CNN) to classify handwritten digits from the MNIST dataset. The steps to build a CNN classifier are outlined in section 20.15 of the Machine Learning with Python Cookbook, but keep in mind that your code may need to be modified depending on your version of Keras."
   ]
  },
  {
   "cell_type": "markdown",
   "id": "c8bb38b9",
   "metadata": {},
   "source": [
    "######  1) Load the MNIST data set."
   ]
  },
  {
   "cell_type": "code",
   "execution_count": 96,
   "id": "4cfd5262",
   "metadata": {},
   "outputs": [
    {
     "ename": "ImportError",
     "evalue": "cannot import name 'np_utils' from 'keras.utils' (C:\\Users\\Nicol\\AppData\\Roaming\\Python\\Python39\\site-packages\\keras\\utils\\__init__.py)",
     "output_type": "error",
     "traceback": [
      "\u001b[1;31m---------------------------------------------------------------------------\u001b[0m",
      "\u001b[1;31mImportError\u001b[0m                               Traceback (most recent call last)",
      "\u001b[1;32m~\\AppData\\Local\\Temp/ipykernel_24848/2570234242.py\u001b[0m in \u001b[0;36m<module>\u001b[1;34m\u001b[0m\n\u001b[0;32m     14\u001b[0m \u001b[1;32mfrom\u001b[0m \u001b[0mkeras\u001b[0m\u001b[1;33m.\u001b[0m\u001b[0mlayers\u001b[0m \u001b[1;32mimport\u001b[0m \u001b[0mDense\u001b[0m\u001b[1;33m,\u001b[0m \u001b[0mDropout\u001b[0m\u001b[1;33m,\u001b[0m \u001b[0mFlatten\u001b[0m\u001b[1;33m\u001b[0m\u001b[1;33m\u001b[0m\u001b[0m\n\u001b[0;32m     15\u001b[0m \u001b[1;31m#from keras.layers.convolutional import Conv2D, MaxPooling2D\u001b[0m\u001b[1;33m\u001b[0m\u001b[1;33m\u001b[0m\u001b[0m\n\u001b[1;32m---> 16\u001b[1;33m \u001b[1;32mfrom\u001b[0m \u001b[0mkeras\u001b[0m\u001b[1;33m.\u001b[0m\u001b[0mutils\u001b[0m \u001b[1;32mimport\u001b[0m \u001b[0mnp_utils\u001b[0m\u001b[1;33m\u001b[0m\u001b[1;33m\u001b[0m\u001b[0m\n\u001b[0m\u001b[0;32m     17\u001b[0m \u001b[1;32mfrom\u001b[0m \u001b[0mkeras\u001b[0m \u001b[1;32mimport\u001b[0m \u001b[0mbackend\u001b[0m \u001b[1;32mas\u001b[0m \u001b[0mK\u001b[0m\u001b[1;33m\u001b[0m\u001b[1;33m\u001b[0m\u001b[0m\n\u001b[0;32m     18\u001b[0m \u001b[1;33m\u001b[0m\u001b[0m\n",
      "\u001b[1;31mImportError\u001b[0m: cannot import name 'np_utils' from 'keras.utils' (C:\\Users\\Nicol\\AppData\\Roaming\\Python\\Python39\\site-packages\\keras\\utils\\__init__.py)"
     ]
    }
   ],
   "source": [
    "# Importing Required Libraries\n",
    "import numpy as np\n",
    "import pandas as pd\n",
    "from matplotlib import pyplot as plt\n",
    "\n",
    "from tensorflow import keras\n",
    "\n",
    "from keras.datasets import mnist\n",
    "from tensorflow.keras.datasets import mnist\n",
    "from tensorflow.keras.utils import to_categorical\n",
    "from tensorflow.keras.layers import Conv2D,MaxPooling2D\n",
    "\n",
    "from keras.models import Sequential\n",
    "from keras.layers import Dense, Dropout, Flatten\n",
    "#from keras.layers.convolutional import Conv2D, MaxPooling2D\n",
    "from keras.utils import np_utils\n",
    "from keras import backend as K\n",
    "\n",
    "from sklearn.metrics import plot_confusion_matrix\n",
    "from sklearn.metrics import confusion_matrix, classification_report, ConfusionMatrixDisplay, accuracy_score, precision_score, recall_score, f1_score"
   ]
  },
  {
   "cell_type": "markdown",
   "id": "cadb7466",
   "metadata": {},
   "source": [
    "Loading the MNIST data set"
   ]
  },
  {
   "cell_type": "code",
   "execution_count": 97,
   "id": "75c578dc",
   "metadata": {},
   "outputs": [],
   "source": [
    "# loading dataset from mnist import\n",
    "(data_train, target_train),(data_test, target_test) = mnist.load_data()"
   ]
  },
  {
   "cell_type": "markdown",
   "id": "1e00d9bc",
   "metadata": {},
   "source": [
    "2) Display the first five images in the training data set (see section 8.1 in the Machine Learning with Python Cookbook). Compare these to the first five training labels."
   ]
  },
  {
   "cell_type": "code",
   "execution_count": 102,
   "id": "6f45d6c7",
   "metadata": {},
   "outputs": [
    {
     "data": {
      "image/png": "[encoded data removed]",
      "text/plain": [
       "<Figure size 432x288 with 5 Axes>"
      ]
     },
     "metadata": {
      "needs_background": "light"
     },
     "output_type": "display_data"
    }
   ],
   "source": [
    "# Output first five images\n",
    "for i in range(5):\n",
    "    \n",
    "    # Applying subplot\n",
    "    plt.subplot(330 + 1 + i)\n",
    "    \n",
    "    # Plotting raw pixel data\n",
    "    plt.imshow(data_train[i], cmap=plt.get_cmap('gray'))\n",
    "    \n",
    "# Display plot\n",
    "plt.show()"
   ]
  },
  {
   "cell_type": "code",
   "execution_count": 106,
   "id": "9ed8e3bc",
   "metadata": {},
   "outputs": [
    {
     "data": {
      "text/html": [
       "<div>\n",
       "<style scoped>\n",
       "    .dataframe tbody tr th:only-of-type {\n",
       "        vertical-align: middle;\n",
       "    }\n",
       "\n",
       "    .dataframe tbody tr th {\n",
       "        vertical-align: top;\n",
       "    }\n",
       "\n",
       "    .dataframe thead th {\n",
       "        text-align: right;\n",
       "    }\n",
       "</style>\n",
       "<table border=\"1\" class=\"dataframe\">\n",
       "  <thead>\n",
       "    <tr style=\"text-align: right;\">\n",
       "      <th></th>\n",
       "      <th>label</th>\n",
       "    </tr>\n",
       "  </thead>\n",
       "  <tbody>\n",
       "    <tr>\n",
       "      <th>0</th>\n",
       "      <td>5</td>\n",
       "    </tr>\n",
       "    <tr>\n",
       "      <th>1</th>\n",
       "      <td>0</td>\n",
       "    </tr>\n",
       "    <tr>\n",
       "      <th>2</th>\n",
       "      <td>4</td>\n",
       "    </tr>\n",
       "    <tr>\n",
       "      <th>3</th>\n",
       "      <td>1</td>\n",
       "    </tr>\n",
       "    <tr>\n",
       "      <th>4</th>\n",
       "      <td>9</td>\n",
       "    </tr>\n",
       "  </tbody>\n",
       "</table>\n",
       "</div>"
      ],
      "text/plain": [
       "   label\n",
       "0      5\n",
       "1      0\n",
       "2      4\n",
       "3      1\n",
       "4      9"
      ]
     },
     "execution_count": 106,
     "metadata": {},
     "output_type": "execute_result"
    }
   ],
   "source": [
    "# Output first five labels\n",
    "pd.DataFrame(target_train[0:5]).set_axis(['label'], axis=1)"
   ]
  },
  {
   "cell_type": "markdown",
   "id": "ff9e1f53",
   "metadata": {},
   "source": [
    "3) Build and train a Keras CNN classifier on the MNIST training set."
   ]
  },
  {
   "cell_type": "code",
   "execution_count": 107,
   "id": "656612ab",
   "metadata": {},
   "outputs": [],
   "source": [
    "from keras import backend as K\n"
   ]
  },
  {
   "cell_type": "code",
   "execution_count": 109,
   "id": "bd3fe713",
   "metadata": {},
   "outputs": [],
   "source": [
    "# Resources from 20.15\n",
    "\n",
    "# Set that the color channel value will be first\n",
    "K.set_image_data_format(\"channels_last\")"
   ]
  },
  {
   "cell_type": "code",
   "execution_count": 110,
   "id": "22fdc589",
   "metadata": {},
   "outputs": [],
   "source": [
    "# Set Seed\n",
    "np.random.seed(0)"
   ]
  },
  {
   "cell_type": "code",
   "execution_count": 111,
   "id": "6734338a",
   "metadata": {},
   "outputs": [],
   "source": [
    "# Set image information\n",
    "channels = 1\n",
    "height = 28\n",
    "width = 28"
   ]
  },
  {
   "cell_type": "code",
   "execution_count": 112,
   "id": "47bd90ad",
   "metadata": {},
   "outputs": [],
   "source": [
    "# reshape dataset to have a single-channel\n",
    "data_train = data_train.reshape((data_train.shape[0], 28, 28, 1)) # checks height, width, channel\n",
    "\n",
    "data_test = data_test.reshape((data_test.shape[0], 28, 28, 1)) "
   ]
  },
  {
   "cell_type": "code",
   "execution_count": 113,
   "id": "09845b5b",
   "metadata": {},
   "outputs": [],
   "source": [
    "# Rescale pixel intensity between 0 and 1\n",
    "features_train = data_train / 255\n",
    "features_test = data_test / 255"
   ]
  },
  {
   "cell_type": "code",
   "execution_count": 114,
   "id": "297a605b",
   "metadata": {},
   "outputs": [],
   "source": [
    "# One-hot encode target\n",
    "target_train = keras.utils.to_categorical(target_train)\n",
    "target_test = keras.utils.to_categorical(target_test)\n",
    "number_of_classes = target_test.shape[1]"
   ]
  },
  {
   "cell_type": "code",
   "execution_count": 115,
   "id": "265b854a",
   "metadata": {},
   "outputs": [],
   "source": [
    "# Start neural network\n",
    "network = Sequential()"
   ]
  },
  {
   "cell_type": "code",
   "execution_count": 117,
   "id": "9d5213ba",
   "metadata": {},
   "outputs": [],
   "source": [
    "from tensorflow.keras.layers import Conv2D\n",
    "\n",
    "\n",
    "# Add Convolutional layer with 64 filters, a 5 x 5 window, and ReLU activation function\n",
    "network.add(Conv2D(filters=64,\n",
    "                   kernel_size=(5, 5),\n",
    "                   input_shape=(height, width, channels),\n",
    "                   activation='relu'))"
   ]
  },
  {
   "cell_type": "code",
   "execution_count": 118,
   "id": "8fb40efc",
   "metadata": {},
   "outputs": [],
   "source": [
    "# Add max pooling layer with a 2x2 window\n",
    "network.add(MaxPooling2D(pool_size=(2, 2)))"
   ]
  },
  {
   "cell_type": "code",
   "execution_count": 119,
   "id": "8c4c268d",
   "metadata": {},
   "outputs": [],
   "source": [
    "# Add dropout layer\n",
    "network.add(Dropout(0.5))"
   ]
  },
  {
   "cell_type": "code",
   "execution_count": 120,
   "id": "68d167f7",
   "metadata": {},
   "outputs": [],
   "source": [
    "# Add dropout layer\n",
    "network.add(Flatten())"
   ]
  },
  {
   "cell_type": "code",
   "execution_count": 121,
   "id": "49efc92f",
   "metadata": {},
   "outputs": [],
   "source": [
    "# Add fully connected layer of 128 units with a ReLU activation function\n",
    "network.add(Dense(128, activation=\"relu\"))"
   ]
  },
  {
   "cell_type": "code",
   "execution_count": 122,
   "id": "a2bbc56b",
   "metadata": {},
   "outputs": [],
   "source": [
    "# Add dropout layer\n",
    "network.add(Dropout(0.5))"
   ]
  },
  {
   "cell_type": "code",
   "execution_count": 123,
   "id": "fd09ec03",
   "metadata": {},
   "outputs": [],
   "source": [
    "# Add fully connected layer with a softmax activation function\n",
    "network.add(Dense(number_of_classes, activation=\"softmax\"))"
   ]
  },
  {
   "cell_type": "code",
   "execution_count": 124,
   "id": "f3ce2a6e",
   "metadata": {},
   "outputs": [],
   "source": [
    "# Compile neural network\n",
    "network.compile(loss=\"categorical_crossentropy\",\n",
    "                optimizer = \"rmsprop\",\n",
    "                metrics = [\"accuracy\"])"
   ]
  },
  {
   "cell_type": "code",
   "execution_count": 125,
   "id": "0371c7af",
   "metadata": {},
   "outputs": [
    {
     "data": {
      "text/plain": [
       "<keras.src.callbacks.History at 0x155075041f0>"
      ]
     },
     "execution_count": 125,
     "metadata": {},
     "output_type": "execute_result"
    }
   ],
   "source": [
    "# Train neural network\n",
    "network.fit(features_train, \n",
    " target_train,\n",
    " epochs=2, \n",
    " verbose=0,\n",
    " batch_size=1000,\n",
    " validation_data=(features_test, target_test))"
   ]
  },
  {
   "cell_type": "code",
   "execution_count": 133,
   "id": "37d94831",
   "metadata": {},
   "outputs": [
    {
     "name": "stdout",
     "output_type": "stream",
     "text": [
      "Model: \"sequential_4\"\n",
      "_________________________________________________________________\n",
      " Layer (type)                Output Shape              Param #   \n",
      "=================================================================\n",
      " conv2d_7 (Conv2D)           (None, 24, 24, 64)        1664      \n",
      "                                                                 \n",
      " max_pooling2d_5 (MaxPoolin  (None, 12, 12, 64)        0         \n",
      " g2D)                                                            \n",
      "                                                                 \n",
      " dropout_4 (Dropout)         (None, 12, 12, 64)        0         \n",
      "                                                                 \n",
      " flatten_3 (Flatten)         (None, 9216)              0         \n",
      "                                                                 \n",
      " dense_4 (Dense)             (None, 128)               1179776   \n",
      "                                                                 \n",
      " dropout_5 (Dropout)         (None, 128)               0         \n",
      "                                                                 \n",
      " dense_5 (Dense)             (None, 10)                1290      \n",
      "                                                                 \n",
      "=================================================================\n",
      "Total params: 1182730 (4.51 MB)\n",
      "Trainable params: 1182730 (4.51 MB)\n",
      "Non-trainable params: 0 (0.00 Byte)\n",
      "_________________________________________________________________\n"
     ]
    }
   ],
   "source": [
    "network.summary()"
   ]
  },
  {
   "cell_type": "code",
   "execution_count": 134,
   "id": "7e79437e",
   "metadata": {},
   "outputs": [
    {
     "name": "stdout",
     "output_type": "stream",
     "text": [
      "313/313 [==============================] - 1s 4ms/step\n"
     ]
    }
   ],
   "source": [
    "# Apply model to make predictions on test set\n",
    "pred = network.predict(data_test)"
   ]
  },
  {
   "cell_type": "code",
   "execution_count": 135,
   "id": "82f7c952",
   "metadata": {},
   "outputs": [],
   "source": [
    "# Converting values for confusion matrix\n",
    "y_preds = np.argmax(pred, axis=1)"
   ]
  },
  {
   "cell_type": "code",
   "execution_count": 136,
   "id": "0b92d7dc",
   "metadata": {},
   "outputs": [
    {
     "data": {
      "text/plain": [
       "array([[0., 0., 0., ..., 1., 0., 0.],\n",
       "       [0., 0., 1., ..., 0., 0., 0.],\n",
       "       [0., 1., 0., ..., 0., 0., 0.],\n",
       "       ...,\n",
       "       [0., 0., 0., ..., 0., 0., 0.],\n",
       "       [0., 0., 0., ..., 0., 0., 0.],\n",
       "       [0., 0., 0., ..., 0., 0., 0.]], dtype=float32)"
      ]
     },
     "execution_count": 136,
     "metadata": {},
     "output_type": "execute_result"
    }
   ],
   "source": [
    "# target_test shape\n",
    "target_test"
   ]
  },
  {
   "cell_type": "code",
   "execution_count": 138,
   "id": "de4b5e04",
   "metadata": {},
   "outputs": [],
   "source": [
    "# Converting values for confusion matrix\n",
    "y_true = np.argmax(target_test, axis=1)"
   ]
  },
  {
   "cell_type": "code",
   "execution_count": null,
   "id": "f20623b1",
   "metadata": {},
   "outputs": [],
   "source": []
  },
  {
   "cell_type": "markdown",
   "id": "19eb96c8",
   "metadata": {},
   "source": [
    "4) Report the test accuracy of your model"
   ]
  },
  {
   "cell_type": "code",
   "execution_count": 142,
   "id": "b8db6d3b",
   "metadata": {},
   "outputs": [],
   "source": [
    "from sklearn.metrics import ConfusionMatrixDisplay\n",
    "from sklearn.metrics import confusion_matrix, classification_report, ConfusionMatrixDisplay, accuracy_score, precision_score, recall_score, f1_score"
   ]
  },
  {
   "cell_type": "code",
   "execution_count": 143,
   "id": "7e4169b8",
   "metadata": {},
   "outputs": [],
   "source": [
    "# Calculating statistics\n",
    "accuracy = accuracy_score(y_true, y_preds)\n",
    "precision = precision_score(y_true, y_preds, average=\"micro\")\n",
    "recall = recall_score(y_true, y_preds, average=\"micro\")\n",
    "f1 = f1_score(y_true, y_preds, average=\"micro\")"
   ]
  },
  {
   "cell_type": "code",
   "execution_count": 144,
   "id": "89be7dab",
   "metadata": {},
   "outputs": [
    {
     "name": "stdout",
     "output_type": "stream",
     "text": [
      "              precision    recall  f1-score   support\n",
      "\n",
      "           0       0.97      0.99      0.98       980\n",
      "           1       0.99      0.97      0.98      1135\n",
      "           2       0.96      0.96      0.96      1032\n",
      "           3       0.97      0.97      0.97      1010\n",
      "           4       0.98      0.96      0.97       982\n",
      "           5       0.98      0.98      0.98       892\n",
      "           6       0.98      0.97      0.98       958\n",
      "           7       0.99      0.91      0.95      1028\n",
      "           8       0.90      0.99      0.94       974\n",
      "           9       0.93      0.96      0.94      1009\n",
      "\n",
      "    accuracy                           0.96     10000\n",
      "   macro avg       0.97      0.97      0.97     10000\n",
      "weighted avg       0.97      0.96      0.97     10000\n",
      "\n"
     ]
    }
   ],
   "source": [
    "# Output classification report\n",
    "print(classification_report(y_true, y_preds))"
   ]
  },
  {
   "cell_type": "markdown",
   "id": "d39dc731",
   "metadata": {},
   "source": [
    "5) Display a confusion matrix on the test set classifications"
   ]
  },
  {
   "cell_type": "code",
   "execution_count": 145,
   "id": "72dcdbe1",
   "metadata": {},
   "outputs": [
    {
     "data": {
      "image/png": "[encoded data removed]",
      "text/plain": [
       "<Figure size 432x288 with 2 Axes>"
      ]
     },
     "metadata": {
      "needs_background": "light"
     },
     "output_type": "display_data"
    }
   ],
   "source": [
    "# Print Confusion Matrix\n",
    "conf_matrix = confusion_matrix(y_true, y_preds)\n",
    "display_one = ConfusionMatrixDisplay(confusion_matrix=conf_matrix, display_labels=[0,1,2,3,4,5,6,7,8,9])\n",
    "display_one.plot()\n",
    "plt.show()"
   ]
  },
  {
   "cell_type": "code",
   "execution_count": null,
   "id": "de1bde4c",
   "metadata": {},
   "outputs": [],
   "source": []
  },
  {
   "cell_type": "markdown",
   "id": "f812701c",
   "metadata": {},
   "source": [
    "6) The training set conducts the initial phase of the training model. It evaluates the weights of each neural network. Then the test set predicts the accuracy of the each trained neural network. The predictions show a 97% accuracy overall. That demostrates that there is a high capacity of True positives which makes this test set very accurate.  "
   ]
  }
 ],
 "metadata": {
  "kernelspec": {
   "display_name": "Python 3 (ipykernel)",
   "language": "python",
   "name": "python3"
  },
  "language_info": {
   "codemirror_mode": {
    "name": "ipython",
    "version": 3
   },
   "file_extension": ".py",
   "mimetype": "text/x-python",
   "name": "python",
   "nbconvert_exporter": "python",
   "pygments_lexer": "ipython3",
   "version": "3.9.7"
  }
 },
 "nbformat": 4,
 "nbformat_minor": 5
}
